{
 "cells": [
  {
   "cell_type": "markdown",
   "id": "f0dc5563",
   "metadata": {},
   "source": [
    "#### Importing Modules"
   ]
  },
  {
   "cell_type": "code",
   "execution_count": 25,
   "id": "dd97c262",
   "metadata": {},
   "outputs": [],
   "source": [
    "import numpy as np\n",
    "from numpy import asarray"
   ]
  },
  {
   "cell_type": "markdown",
   "id": "5ba2054c",
   "metadata": {},
   "source": [
    "#### Data"
   ]
  },
  {
   "cell_type": "code",
   "execution_count": 26,
   "id": "e0df0f53",
   "metadata": {},
   "outputs": [],
   "source": [
    "data = [[3,3,2,1,0], \n",
    "        [0,0,1,3,1],\n",
    "        [3,1,2,2,3],\n",
    "        [2,0,0,2,2],\n",
    "        [2,0,0,0,1]]"
   ]
  },
  {
   "cell_type": "code",
   "execution_count": 27,
   "id": "91eb5a4f",
   "metadata": {},
   "outputs": [
    {
     "name": "stdout",
     "output_type": "stream",
     "text": [
      "<class 'list'>\n"
     ]
    }
   ],
   "source": [
    "print(type(data))"
   ]
  },
  {
   "cell_type": "code",
   "execution_count": 28,
   "id": "697802cd",
   "metadata": {},
   "outputs": [
    {
     "name": "stdout",
     "output_type": "stream",
     "text": [
      "<class 'numpy.ndarray'>\n"
     ]
    }
   ],
   "source": [
    "data = np.asarray(data)\n",
    "print(type(data))"
   ]
  },
  {
   "cell_type": "code",
   "execution_count": 29,
   "id": "4b620ce1",
   "metadata": {},
   "outputs": [
    {
     "data": {
      "text/plain": [
       "array([[[[3],\n",
       "         [3],\n",
       "         [2],\n",
       "         [1],\n",
       "         [0]],\n",
       "\n",
       "        [[0],\n",
       "         [0],\n",
       "         [1],\n",
       "         [3],\n",
       "         [1]],\n",
       "\n",
       "        [[3],\n",
       "         [1],\n",
       "         [2],\n",
       "         [2],\n",
       "         [3]],\n",
       "\n",
       "        [[2],\n",
       "         [0],\n",
       "         [0],\n",
       "         [2],\n",
       "         [2]],\n",
       "\n",
       "        [[2],\n",
       "         [0],\n",
       "         [0],\n",
       "         [0],\n",
       "         [1]]]])"
      ]
     },
     "execution_count": 29,
     "metadata": {},
     "output_type": "execute_result"
    }
   ],
   "source": [
    "data = data.reshape(1,5,5,1)\n",
    "data"
   ]
  },
  {
   "cell_type": "markdown",
   "id": "4e3231fe",
   "metadata": {},
   "source": [
    "#### Kernel (or) Filter (or) Feature Detector [Convolutional 2D]"
   ]
  },
  {
   "cell_type": "code",
   "execution_count": 30,
   "id": "17b587dc",
   "metadata": {},
   "outputs": [],
   "source": [
    "#kernel going to 3x3 matrix\n",
    "kernel = [[[[0]], [[1]], [[2]]],\n",
    "          [[[2]],[[2]], [[0]]],\n",
    "          [[[0]], [[1]], [[2]]]]"
   ]
  },
  {
   "cell_type": "code",
   "execution_count": 31,
   "id": "f76b2899",
   "metadata": {},
   "outputs": [
    {
     "name": "stdout",
     "output_type": "stream",
     "text": [
      "[[[[0]], [[1]], [[2]]], [[[2]], [[2]], [[0]]], [[[0]], [[1]], [[2]]]]\n"
     ]
    }
   ],
   "source": [
    "print(kernel)"
   ]
  },
  {
   "cell_type": "code",
   "execution_count": 32,
   "id": "29f8289a",
   "metadata": {},
   "outputs": [
    {
     "data": {
      "text/plain": [
       "[array([[[[0]],\n",
       " \n",
       "         [[1]],\n",
       " \n",
       "         [[2]]],\n",
       " \n",
       " \n",
       "        [[[2]],\n",
       " \n",
       "         [[2]],\n",
       " \n",
       "         [[0]]],\n",
       " \n",
       " \n",
       "        [[[0]],\n",
       " \n",
       "         [[1]],\n",
       " \n",
       "         [[2]]]]),\n",
       " array([0.])]"
      ]
     },
     "execution_count": 32,
     "metadata": {},
     "output_type": "execute_result"
    }
   ],
   "source": [
    "weights = [asarray(kernel), asarray([0.0])]\n",
    "weights"
   ]
  },
  {
   "cell_type": "code",
   "execution_count": 33,
   "id": "7e43d8c4",
   "metadata": {},
   "outputs": [
    {
     "name": "stdout",
     "output_type": "stream",
     "text": [
      "<class 'list'>\n"
     ]
    }
   ],
   "source": [
    "print(type(weights))"
   ]
  },
  {
   "cell_type": "markdown",
   "id": "3c371963",
   "metadata": {},
   "source": [
    "#### Training the Model"
   ]
  },
  {
   "cell_type": "markdown",
   "id": "7fc6bf0d",
   "metadata": {},
   "source": [
    "#### Kernel "
   ]
  },
  {
   "cell_type": "code",
   "execution_count": 34,
   "id": "960a81c2",
   "metadata": {},
   "outputs": [
    {
     "name": "stdout",
     "output_type": "stream",
     "text": [
      "Model: \"sequential_6\"\n",
      "_________________________________________________________________\n",
      " Layer (type)                Output Shape              Param #   \n",
      "=================================================================\n",
      " conv2d_6 (Conv2D)           (None, 3, 3, 1)           10        \n",
      "                                                                 \n",
      "=================================================================\n",
      "Total params: 10\n",
      "Trainable params: 10\n",
      "Non-trainable params: 0\n",
      "_________________________________________________________________\n"
     ]
    }
   ],
   "source": [
    "from keras.models import Sequential\n",
    "from keras.layers import Conv2D\n",
    "\n",
    "#create the model\n",
    "model = Sequential()\n",
    "model.add(Conv2D(1, (3,3), input_shape = (5,5,1)))\n",
    "model.summary()"
   ]
  },
  {
   "cell_type": "code",
   "execution_count": 35,
   "id": "bbd4ca25",
   "metadata": {},
   "outputs": [
    {
     "name": "stdout",
     "output_type": "stream",
     "text": [
      "1/1 [==============================] - 0s 61ms/step\n"
     ]
    },
    {
     "data": {
      "text/plain": [
       "array([[[[12.],\n",
       "         [12.],\n",
       "         [17.]],\n",
       "\n",
       "        [[10.],\n",
       "         [17.],\n",
       "         [19.]],\n",
       "\n",
       "        [[ 9.],\n",
       "         [ 6.],\n",
       "         [14.]]]], dtype=float32)"
      ]
     },
     "execution_count": 35,
     "metadata": {},
     "output_type": "execute_result"
    }
   ],
   "source": [
    "model.set_weights(weights)\n",
    "ythat = model.predict(data)\n",
    "ythat"
   ]
  },
  {
   "cell_type": "code",
   "execution_count": 36,
   "id": "6f499408",
   "metadata": {},
   "outputs": [
    {
     "name": "stdout",
     "output_type": "stream",
     "text": [
      "[12.0, 12.0, 17.0]\n",
      "[10.0, 17.0, 19.0]\n",
      "[9.0, 6.0, 14.0]\n"
     ]
    }
   ],
   "source": [
    "for r in range(ythat.shape[1]):\n",
    "    print([ythat[0,r,c,0] for c in range(ythat.shape[2])])"
   ]
  },
  {
   "cell_type": "markdown",
   "id": "230e19e4",
   "metadata": {},
   "source": [
    "#### Strides"
   ]
  },
  {
   "cell_type": "code",
   "execution_count": 37,
   "id": "1a1e7467",
   "metadata": {},
   "outputs": [
    {
     "name": "stdout",
     "output_type": "stream",
     "text": [
      "Model: \"sequential_7\"\n",
      "_________________________________________________________________\n",
      " Layer (type)                Output Shape              Param #   \n",
      "=================================================================\n",
      " conv2d_7 (Conv2D)           (None, 2, 2, 1)           10        \n",
      "                                                                 \n",
      "=================================================================\n",
      "Total params: 10\n",
      "Trainable params: 10\n",
      "Non-trainable params: 0\n",
      "_________________________________________________________________\n"
     ]
    }
   ],
   "source": [
    "model = Sequential()\n",
    "model.add(Conv2D(1, (3,3), strides=(2,2), input_shape=(5,5,1)))\n",
    "model.summary()"
   ]
  },
  {
   "cell_type": "code",
   "execution_count": 38,
   "id": "4f4ce549",
   "metadata": {},
   "outputs": [
    {
     "name": "stdout",
     "output_type": "stream",
     "text": [
      "1/1 [==============================] - 0s 63ms/step\n",
      "[12.0, 17.0]\n",
      "[9.0, 14.0]\n"
     ]
    }
   ],
   "source": [
    "model.set_weights(weights)\n",
    "ythat = model.predict(data)\n",
    "for r in range(ythat.shape[1]):\n",
    "    print([ythat[0,r,c,0] for c in range(ythat.shape[2])])"
   ]
  },
  {
   "cell_type": "markdown",
   "id": "81986459",
   "metadata": {},
   "source": [
    "#### Padding"
   ]
  },
  {
   "cell_type": "code",
   "execution_count": 39,
   "id": "9de2b3fc",
   "metadata": {},
   "outputs": [
    {
     "name": "stdout",
     "output_type": "stream",
     "text": [
      "Model: \"sequential_8\"\n",
      "_________________________________________________________________\n",
      " Layer (type)                Output Shape              Param #   \n",
      "=================================================================\n",
      " conv2d_8 (Conv2D)           (None, 5, 5, 1)           10        \n",
      "                                                                 \n",
      "=================================================================\n",
      "Total params: 10\n",
      "Trainable params: 10\n",
      "Non-trainable params: 0\n",
      "_________________________________________________________________\n"
     ]
    }
   ],
   "source": [
    "model = Sequential()\n",
    "model.add(Conv2D(1, (3,3), padding=\"same\", input_shape = (5,5,1)))\n",
    "model.summary()"
   ]
  },
  {
   "cell_type": "code",
   "execution_count": 40,
   "id": "2996a7c6",
   "metadata": {},
   "outputs": [
    {
     "name": "stdout",
     "output_type": "stream",
     "text": [
      "1/1 [==============================] - 0s 79ms/step\n",
      "[6.0, 14.0, 17.0, 11.0, 3.0]\n",
      "[14.0, 12.0, 12.0, 17.0, 11.0]\n",
      "[8.0, 10.0, 17.0, 19.0, 13.0]\n",
      "[11.0, 9.0, 6.0, 14.0, 12.0]\n",
      "[6.0, 4.0, 4.0, 6.0, 4.0]\n"
     ]
    }
   ],
   "source": [
    "model.set_weights(weights)\n",
    "ythat = model.predict(data)\n",
    "for r in range(ythat.shape[1]):\n",
    "    print([ythat[0,r,c,0] for c in range(ythat.shape[1])])"
   ]
  },
  {
   "cell_type": "markdown",
   "id": "07f1bfa6",
   "metadata": {},
   "source": [
    "#### Max pooling"
   ]
  },
  {
   "cell_type": "code",
   "execution_count": 41,
   "id": "0bb07c3d",
   "metadata": {},
   "outputs": [
    {
     "name": "stdout",
     "output_type": "stream",
     "text": [
      "Model: \"sequential_9\"\n",
      "_________________________________________________________________\n",
      " Layer (type)                Output Shape              Param #   \n",
      "=================================================================\n",
      " conv2d_9 (Conv2D)           (None, 5, 5, 1)           10        \n",
      "                                                                 \n",
      " max_pooling2d_1 (MaxPooling  (None, 2, 2, 1)          0         \n",
      " 2D)                                                             \n",
      "                                                                 \n",
      "=================================================================\n",
      "Total params: 10\n",
      "Trainable params: 10\n",
      "Non-trainable params: 0\n",
      "_________________________________________________________________\n"
     ]
    }
   ],
   "source": [
    "from keras.layers import MaxPooling2D\n",
    "model = Sequential()\n",
    "model.add(Conv2D(1,(3,3),padding=\"same\", input_shape=(5,5,1)))\n",
    "model.add(MaxPooling2D((2,2)))\n",
    "model.summary()"
   ]
  },
  {
   "cell_type": "code",
   "execution_count": 42,
   "id": "b5b79d33",
   "metadata": {},
   "outputs": [
    {
     "name": "stdout",
     "output_type": "stream",
     "text": [
      "1/1 [==============================] - 0s 56ms/step\n",
      "[14.0, 17.0]\n",
      "[11.0, 19.0]\n"
     ]
    }
   ],
   "source": [
    "model.set_weights(weights)\n",
    "ythat = model.predict(data)\n",
    "for r in range(ythat.shape[1]):\n",
    "    print([ythat[0,r,c,0] for c in range(ythat.shape[2])])"
   ]
  },
  {
   "cell_type": "markdown",
   "id": "7e7869c8",
   "metadata": {},
   "source": [
    "#### Average Pooling"
   ]
  },
  {
   "cell_type": "code",
   "execution_count": 47,
   "id": "5e970e8a",
   "metadata": {},
   "outputs": [
    {
     "name": "stdout",
     "output_type": "stream",
     "text": [
      "Model: \"sequential_12\"\n",
      "_________________________________________________________________\n",
      " Layer (type)                Output Shape              Param #   \n",
      "=================================================================\n",
      " conv2d_12 (Conv2D)          (None, 5, 5, 1)           10        \n",
      "                                                                 \n",
      " average_pooling2d_4 (Averag  (None, 2, 2, 1)          0         \n",
      " ePooling2D)                                                     \n",
      "                                                                 \n",
      "=================================================================\n",
      "Total params: 10\n",
      "Trainable params: 10\n",
      "Non-trainable params: 0\n",
      "_________________________________________________________________\n"
     ]
    }
   ],
   "source": [
    "from keras.layers import AveragePooling2D\n",
    "model = Sequential()\n",
    "model.add(Conv2D(1, (3,3), padding=\"same\", input_shape=(5,5,1)))\n",
    "model.add(AveragePooling2D((2,2)))\n",
    "model.summary()"
   ]
  },
  {
   "cell_type": "code",
   "execution_count": 48,
   "id": "f61c7e2b",
   "metadata": {},
   "outputs": [
    {
     "name": "stdout",
     "output_type": "stream",
     "text": [
      "1/1 [==============================] - 0s 78ms/step\n",
      "[11.5, 14.25]\n",
      "[9.5, 14.0]\n"
     ]
    }
   ],
   "source": [
    "model.set_weights(weights)\n",
    "ythat = model.predict(data)\n",
    "for r in range(ythat.shape[1]):\n",
    "    print([ythat[0,r,c,0] for c in range(ythat.shape[2])])"
   ]
  },
  {
   "cell_type": "markdown",
   "id": "f2c8c551",
   "metadata": {},
   "source": [
    "#### Flatten"
   ]
  },
  {
   "cell_type": "code",
   "execution_count": 45,
   "id": "c4c83b56",
   "metadata": {},
   "outputs": [
    {
     "name": "stdout",
     "output_type": "stream",
     "text": [
      "Model: \"sequential_11\"\n",
      "_________________________________________________________________\n",
      " Layer (type)                Output Shape              Param #   \n",
      "=================================================================\n",
      " conv2d_11 (Conv2D)          (None, 5, 5, 1)           10        \n",
      "                                                                 \n",
      " average_pooling2d_3 (Averag  (None, 2, 2, 1)          0         \n",
      " ePooling2D)                                                     \n",
      "                                                                 \n",
      " flatten_1 (Flatten)         (None, 4)                 0         \n",
      "                                                                 \n",
      "=================================================================\n",
      "Total params: 10\n",
      "Trainable params: 10\n",
      "Non-trainable params: 0\n",
      "_________________________________________________________________\n"
     ]
    }
   ],
   "source": [
    "from keras.layers import Flatten\n",
    "model = Sequential()\n",
    "model.add(Conv2D(1, (3,3), padding=\"same\", input_shape = (5,5,1)))\n",
    "model.add(AveragePooling2D((2,2)))\n",
    "model.add(Flatten())\n",
    "model.summary()"
   ]
  }
 ],
 "metadata": {
  "kernelspec": {
   "display_name": "Python 3 (ipykernel)",
   "language": "python",
   "name": "python3"
  },
  "language_info": {
   "codemirror_mode": {
    "name": "ipython",
    "version": 3
   },
   "file_extension": ".py",
   "mimetype": "text/x-python",
   "name": "python",
   "nbconvert_exporter": "python",
   "pygments_lexer": "ipython3",
   "version": "3.9.12"
  }
 },
 "nbformat": 4,
 "nbformat_minor": 5
}
