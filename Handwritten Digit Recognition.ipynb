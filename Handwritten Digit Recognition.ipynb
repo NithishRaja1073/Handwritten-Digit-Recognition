{
 "cells": [
  {
   "cell_type": "markdown",
   "id": "c50b84a0",
   "metadata": {},
   "source": [
    "#### Importing modules"
   ]
  },
  {
   "cell_type": "code",
   "execution_count": 31,
   "id": "39c05470",
   "metadata": {},
   "outputs": [
    {
     "name": "stdout",
     "output_type": "stream",
     "text": [
      "(60000, 28, 28) (60000,)\n"
     ]
    }
   ],
   "source": [
    "import keras\n",
    "from keras.datasets import mnist\n",
    "from keras.models import Sequential\n",
    "from keras.layers import Dense, Dropout, Flatten\n",
    "from keras.layers import Conv2D, MaxPooling2D\n",
    "from keras import backend as K\n",
    "\n",
    "# the data, split between train and test sets\n",
    "(x_train, y_train), (x_test, y_test) = mnist.load_data()\n",
    "\n",
    "print(x_train.shape, y_train.shape)"
   ]
  },
  {
   "cell_type": "markdown",
   "id": "36ba63b0",
   "metadata": {},
   "source": [
    "#### Training the data"
   ]
  },
  {
   "cell_type": "code",
   "execution_count": 16,
   "id": "b40d80a2",
   "metadata": {},
   "outputs": [
    {
     "name": "stdout",
     "output_type": "stream",
     "text": [
      "(60000, 28, 28) (60000,)\n"
     ]
    }
   ],
   "source": [
    "(x_train, y_train), (x_test, y_test) = mnist.load_data()\n",
    "print(x_train.shape, y_train.shape)"
   ]
  },
  {
   "cell_type": "markdown",
   "id": "dca89858",
   "metadata": {},
   "source": [
    "#### Preprocessing the data"
   ]
  },
  {
   "cell_type": "markdown",
   "id": "71b02a47",
   "metadata": {},
   "source": [
    "Our x_train_shape is (60000, 28, 28) we does not directly fed into the model so we need to process the data for neural network.\n",
    "\n",
    "Cnn model requires one more dimension so we reshape the (60000,28,28) --> (60000,28,28,1)."
   ]
  },
  {
   "cell_type": "code",
   "execution_count": 32,
   "id": "bdc1155a",
   "metadata": {},
   "outputs": [
    {
     "name": "stdout",
     "output_type": "stream",
     "text": [
      "x_train shape: (60000, 28, 28, 1)\n",
      "60000 train samples\n",
      "10000 test samples\n"
     ]
    }
   ],
   "source": [
    "x_train = x_train.reshape(x_train.shape[0], 28, 28, 1)\n",
    "x_test = x_test.reshape(x_test.shape[0], 28, 28, 1)\n",
    "input_shape = (28, 28, 1)\n",
    "\n",
    "# convert class vectors to binary class matrices\n",
    "y_train = keras.utils.to_categorical(y_train, num_classes)\n",
    "y_test = keras.utils.to_categorical(y_test, num_classes)\n",
    "\n",
    "x_train = x_train.astype('float32')\n",
    "x_test = x_test.astype('float32')\n",
    "x_train /= 255\n",
    "x_test /= 255\n",
    "print('x_train shape:', x_train.shape)\n",
    "print(x_train.shape[0], 'train samples')\n",
    "print(x_test.shape[0], 'test samples')"
   ]
  },
  {
   "cell_type": "markdown",
   "id": "5f6d1280",
   "metadata": {},
   "source": [
    "#### Create a CNN model"
   ]
  },
  {
   "cell_type": "markdown",
   "id": "7b52e267",
   "metadata": {},
   "source": [
    "A CNN model generally consists of convolutional and pooling layers. It works better for data that are represented as grid structures. The dropout layer is used to deactivate some of the neurons and while training, it reduces offer fitting of the model."
   ]
  },
  {
   "cell_type": "code",
   "execution_count": 33,
   "id": "bfff7579",
   "metadata": {},
   "outputs": [],
   "source": [
    "batch_size = 128\n",
    "num_classes = 10\n",
    "epochs = 10\n",
    "\n",
    "model = Sequential()\n",
    "model.add(Conv2D(32, kernel_size=(3, 3),activation='relu',input_shape=input_shape))\n",
    "model.add(Conv2D(64, (3, 3), activation='relu'))\n",
    "model.add(MaxPooling2D(pool_size=(2, 2)))\n",
    "model.add(Dropout(0.25))\n",
    "model.add(Flatten())\n",
    "model.add(Dense(256, activation='relu'))\n",
    "model.add(Dropout(0.5))\n",
    "model.add(Dense(num_classes, activation='softmax'))\n",
    "\n",
    "model.compile(loss=keras.losses.categorical_crossentropy,optimizer=keras.optimizers.Adadelta(),metrics=['accuracy'])"
   ]
  },
  {
   "cell_type": "markdown",
   "id": "911482da",
   "metadata": {},
   "source": [
    "#### Train the Model"
   ]
  },
  {
   "cell_type": "markdown",
   "id": "df2bbb36",
   "metadata": {},
   "source": [
    "The model.fit() function of Keras will start the training of the model. It takes the training data, validation data, epochs, and batch size.\n",
    "\n",
    "It takes some time to train the model. After training, we save the weights and model definition in the ‘mnist.h5’ file."
   ]
  },
  {
   "cell_type": "code",
   "execution_count": 40,
   "id": "15aab73d",
   "metadata": {},
   "outputs": [
    {
     "name": "stdout",
     "output_type": "stream",
     "text": [
      "Epoch 1/10\n",
      "469/469 [==============================] - 60s 127ms/step - loss: 0.4402 - accuracy: 0.8656 - val_loss: 0.3125 - val_accuracy: 0.9124\n",
      "Epoch 2/10\n",
      "469/469 [==============================] - 58s 125ms/step - loss: 0.4363 - accuracy: 0.8692 - val_loss: 0.3084 - val_accuracy: 0.9126\n",
      "Epoch 3/10\n",
      "469/469 [==============================] - 58s 124ms/step - loss: 0.4313 - accuracy: 0.8696 - val_loss: 0.3043 - val_accuracy: 0.9147\n",
      "Epoch 4/10\n",
      "469/469 [==============================] - 59s 125ms/step - loss: 0.4260 - accuracy: 0.8700 - val_loss: 0.3004 - val_accuracy: 0.9151\n",
      "Epoch 5/10\n",
      "469/469 [==============================] - 59s 126ms/step - loss: 0.4213 - accuracy: 0.8714 - val_loss: 0.2969 - val_accuracy: 0.9165\n",
      "Epoch 6/10\n",
      "469/469 [==============================] - 60s 127ms/step - loss: 0.4180 - accuracy: 0.8737 - val_loss: 0.2931 - val_accuracy: 0.9165\n",
      "Epoch 7/10\n",
      "469/469 [==============================] - 59s 126ms/step - loss: 0.4134 - accuracy: 0.8744 - val_loss: 0.2899 - val_accuracy: 0.9170\n",
      "Epoch 8/10\n",
      "469/469 [==============================] - 61s 131ms/step - loss: 0.4090 - accuracy: 0.8760 - val_loss: 0.2866 - val_accuracy: 0.9182\n",
      "Epoch 9/10\n",
      "469/469 [==============================] - 62s 133ms/step - loss: 0.4053 - accuracy: 0.8769 - val_loss: 0.2839 - val_accuracy: 0.9188\n",
      "Epoch 10/10\n",
      "469/469 [==============================] - 62s 133ms/step - loss: 0.3991 - accuracy: 0.8780 - val_loss: 0.2806 - val_accuracy: 0.9193\n",
      "The model has successfully trained\n",
      "Saving the model as mnist.h5\n"
     ]
    }
   ],
   "source": [
    "hist = model.fit(x_train, y_train,batch_size=batch_size,epochs=epochs,verbose=1,validation_data=(x_test, y_test))\n",
    "print(\"The model has successfully trained\")\n",
    "\n",
    "model.save('mnist.h5')\n",
    "print(\"Saving the model as mnist.h5\")"
   ]
  },
  {
   "cell_type": "code",
   "execution_count": 41,
   "id": "4fe6a122",
   "metadata": {},
   "outputs": [
    {
     "name": "stdout",
     "output_type": "stream",
     "text": [
      "Test loss: 0.2805810868740082\n",
      "Test accuracy: 0.9193000197410583\n"
     ]
    }
   ],
   "source": [
    "score = model.evaluate(x_test, y_test, verbose=0)\n",
    "print('Test loss:', score[0])\n",
    "print('Test accuracy:', score[1])"
   ]
  },
  {
   "cell_type": "code",
   "execution_count": null,
   "id": "87d891e5",
   "metadata": {},
   "outputs": [],
   "source": []
  }
 ],
 "metadata": {
  "kernelspec": {
   "display_name": "Python 3 (ipykernel)",
   "language": "python",
   "name": "python3"
  },
  "language_info": {
   "codemirror_mode": {
    "name": "ipython",
    "version": 3
   },
   "file_extension": ".py",
   "mimetype": "text/x-python",
   "name": "python",
   "nbconvert_exporter": "python",
   "pygments_lexer": "ipython3",
   "version": "3.9.12"
  }
 },
 "nbformat": 4,
 "nbformat_minor": 5
}
